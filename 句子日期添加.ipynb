{
  "nbformat": 4,
  "nbformat_minor": 0,
  "metadata": {
    "colab": {
      "provenance": [],
      "collapsed_sections": [],
      "authorship_tag": "ABX9TyNITz/l3B8dVI7ioqZ3cy3G",
      "include_colab_link": true
    },
    "kernelspec": {
      "name": "python3",
      "display_name": "Python 3"
    },
    "language_info": {
      "name": "python"
    }
  },
  "cells": [
    {
      "cell_type": "markdown",
      "metadata": {
        "id": "view-in-github",
        "colab_type": "text"
      },
      "source": [
        "<a href=\"https://colab.research.google.com/github/2653319/-/blob/main/%E5%8F%A5%E5%AD%90%E6%97%A5%E6%9C%9F%E6%B7%BB%E5%8A%A0.ipynb\" target=\"_parent\"><img src=\"https://colab.research.google.com/assets/colab-badge.svg\" alt=\"Open In Colab\"/></a>"
      ]
    },
    {
      "cell_type": "code",
      "source": [
        "from google.colab import drive\n",
        "import random as rd\n",
        "drive.mount('/content/drive')\n",
        "!pwd"
      ],
      "metadata": {
        "colab": {
          "base_uri": "https://localhost:8080/"
        },
        "id": "CAHvebYCATbk",
        "outputId": "c90ef89d-b434-43cb-ebcd-644129d65726"
      },
      "execution_count": null,
      "outputs": [
        {
          "output_type": "stream",
          "name": "stdout",
          "text": [
            "Mounted at /content/drive\n",
            "/content\n"
          ]
        }
      ]
    },
    {
      "cell_type": "code",
      "execution_count": null,
      "metadata": {
        "colab": {
          "base_uri": "https://localhost:8080/"
        },
        "id": "PnmZJU61AR74",
        "outputId": "3c4a2fdf-1462-4193-ad82-4e03c4240066"
      },
      "outputs": [
        {
          "output_type": "stream",
          "name": "stdout",
          "text": [
            "筆數: 500\n"
          ]
        },
        {
          "output_type": "execute_result",
          "data": {
            "text/plain": [
              "['質感劇本成員都差很多好嗎不要拿腎結石來污辱這群人',\n",
              " '因為屈原不是台灣人是楚國人',\n",
              " '爵士就是阿瑞斯男主角最後死了',\n",
              " '哪個系不脫節你問最不脫節的簡單多了',\n",
              " '肥宅才看棒球\\u3000系壘一堆胖子']"
            ]
          },
          "metadata": {},
          "execution_count": 4
        }
      ],
      "source": [
        "#PTT\n",
        "\n",
        "qa_pairs = []\n",
        "line_total = 500  #樣本數\n",
        "num = 0\n",
        "\n",
        "with open('drive/MyDrive/Gossiping-QA-Dataset.txt', 'r', encoding='utf-8') as dataset:\n",
        "    for line in dataset:\n",
        "        if num == line_total:\n",
        "          break\n",
        "        line = line.strip('\\n') #將字串前後的 換行處理掉\n",
        "        line = line.replace(\" \", \"\")  #將字串中空格刪除\n",
        "        line = line.replace(\"？\", \"\")  \n",
        "        line = line.replace(\"，\", \"\")  \n",
        "        line = line.replace(\"。\", \"\")  \n",
        "        line = line.replace(\"?\", \"\")  \n",
        "        line = line.replace(\"！\", \"\")  \n",
        "        line = line.replace(\"...\", \"\")  \n",
        "        line_1,line_2 = line.split('\\t') #根據\\t 切割\n",
        "        qa_pairs.append(line_2)\n",
        "        #qa_pairs.append(line_2)\n",
        "        #q,a = line.split('\\t')   \n",
        "        #qa_pairs.append([q,a])\n",
        "        num+=1\n",
        "print(\"筆數:\",len(qa_pairs))\n",
        "qa_pairs[:5]"
      ]
    },
    {
      "cell_type": "code",
      "source": [
        "month_ = {1:\"1月\" , 2:\"2月\" , 4:\"4月\" , 3:\"3月\" , 5:\"5月\" , 6:\"6月\" , 7:\"7月\" , 8:\"8月\" , 9:\"9月\" , 10:\"10月\" , 11:\"11月\" , 12:\"12月\"}"
      ],
      "metadata": {
        "id": "r33TIc6YFpl3"
      },
      "execution_count": null,
      "outputs": []
    },
    {
      "cell_type": "code",
      "source": [
        "day_ = {1:\"1號\" , 2:\"2號\" , 4:\"4號\" , 3:\"3號\" , 5:\"5號\" , 6:\"6號\" , 7:\"7號\" , 8:\"8號\" , 9:\"9號\" , 10:\"10號\" , 11:\"11號\" , 12:\"12號\" , 13:\"13號\" , 14:\"14號\" , 15:\"15號\" , 16:\"16號\" , 17:\"17號\" , 18:\"18號\" , 19:\"19號\" , 20:\"20號\" , 21:\"21號\" , 22:\"22號\" , 23:\"23號\" , 24:\"24號\" , 25:\"25號\" , 26:\"26號\" , 27:\"27號\" , 28:\"28號\" , 29:\"29號\" , 30:\"30號\" , 31:\"31號\"}"
      ],
      "metadata": {
        "id": "nKpY9NjOIaWF"
      },
      "execution_count": null,
      "outputs": []
    },
    {
      "cell_type": "code",
      "source": [
        "month_num = {1:\"1/\" , 2:\"2/\" , 4:\"4/\" , 3:\"3/\" , 5:\"5/\" , 6:\"6/\" , 7:\"7/\" , 8:\"8/\" , 9:\"9/\" , 10:\"10/\" , 11:\"11/\" , 12:\"12/\"}"
      ],
      "metadata": {
        "id": "gfHWQscb8gUH"
      },
      "execution_count": null,
      "outputs": []
    },
    {
      "cell_type": "code",
      "source": [
        "day_num = {1:\"1\" , 2:\"2\" , 4:\"4\" , 3:\"3\" , 5:\"5\" , 6:\"6\" , 7:\"7\" , 8:\"8\" , 9:\"9\" , 10:\"10\" , 11:\"11\" , 12:\"12\" , 13:\"13\" , 14:\"14\" , 15:\"15\" , 16:\"16\" , 17:\"17\" , 18:\"18\" , 19:\"19\" , 20:\"20\" , 21:\"21\" , 22:\"22\" , 23:\"23\" , 24:\"24\" , 25:\"25\" , 26:\"26\" , 27:\"27\" , 28:\"28\" , 29:\"29\" , 30:\"30\" , 31:\"31\"}"
      ],
      "metadata": {
        "id": "6ec4BeFe8jS_"
      },
      "execution_count": null,
      "outputs": []
    },
    {
      "cell_type": "code",
      "source": [
        "month_token = {1:\"一月\" , 2:\"二月\" , 4:\"四月\" , 3:\"三月\" , 5:\"五月\" , 6:\"六月\" , 7:\"七月\" , 8:\"八月\" , 9:\"九月\" , 10:\"十月\" , 11:\"十一月\" , 12:\"十二月\"}"
      ],
      "metadata": {
        "id": "XUyl0dei8yRl"
      },
      "execution_count": null,
      "outputs": []
    },
    {
      "cell_type": "code",
      "source": [
        "day_token = {1:\"一號\" , 2:\"二號\" , 4:\"四號\" , 3:\"三號\" , 5:\"五號\" , 6:\"六號\" , 7:\"七號\" , 8:\"八號\" , 9:\"九號\" , 10:\"十號\" , 11:\"十一號\" , 12:\"十二號\" , 13:\"十三號\" , 14:\"十四號\" , 15:\"十五號\" , 16:\"十六號\" , 17:\"十七號\" , 18:\"十八號\" , 19:\"十九號\" , 20:\"二十號\" , 21:\"二十一號\" , 22:\"二十二號\" , 23:\"二十三號\" , 24:\"二十四號\" , 25:\"二十五號\" , 26:\"二十六號\" , 27:\"二十七號\" , 28:\"二十八號\" , 29:\"二十九號\" , 30:\"三十號\" , 31:\"三十一號\"}"
      ],
      "metadata": {
        "id": "AabCOVhT83V9"
      },
      "execution_count": null,
      "outputs": []
    },
    {
      "cell_type": "code",
      "source": [
        "spoken_1 = {1:\"下周一\" , 2:\"下周二\" ,  3:\"下周三\" , 4:\"下周四\" , 5:\"下週五\" , 6:\"下周六\" , 7:\"下周日\"}"
      ],
      "metadata": {
        "id": "Wp4pJH5-C0JL"
      },
      "execution_count": null,
      "outputs": []
    },
    {
      "cell_type": "code",
      "source": [
        "spoken_2 = {1:\"下禮拜一\" , 2:\"下禮拜二\" , 3:\"下禮拜三\" , 4:\"下禮拜四\" , 5:\"下禮拜五\" , 6:\"下禮拜六\" , 7:\"下禮拜日\" }"
      ],
      "metadata": {
        "id": "3DChjhgc0jGZ"
      },
      "execution_count": null,
      "outputs": []
    },
    {
      "cell_type": "code",
      "source": [
        "spoken_3 = {1:\"禮拜一\" , 2:\"禮拜二\" , 3:\"禮拜三\" , 4:\"禮拜四\" , 5:\"禮拜五\" , 6:\"禮拜六\" , 7:\"禮拜日\" }"
      ],
      "metadata": {
        "id": "Ajglbr4g0mNQ"
      },
      "execution_count": null,
      "outputs": []
    },
    {
      "cell_type": "code",
      "source": [
        "spoken_4 = {1:\"早上\" , 2:\"下午\" , 3:\"晚上\" , 4:\"凌晨\"}"
      ],
      "metadata": {
        "id": "AT4Ztkr1lQLX"
      },
      "execution_count": null,
      "outputs": []
    },
    {
      "cell_type": "code",
      "source": [
        "ki = [4,6,9,11]\n",
        "di = [29,30,31]\n",
        "path = 'drive/MyDrive/day.txt'\n",
        "with open(path, 'w') as f:\n",
        "  for i in range(len(qa_pairs)):\n",
        "    for mon in range(0,13):\n",
        "      if mon == 0:\n",
        "        line_new_day = \"0 \" + qa_pairs[i] \n",
        "        f.writelines(str(line_new_day) +\"\\n\")\n",
        "      else:\n",
        "        line_2 = [d for d in qa_pairs[i]]\n",
        "        num = rd.randint(0,len(line_2))\n",
        "        for da in range(1,32):\n",
        "          line_ = [c for c in qa_pairs[i]]\n",
        "\n",
        "          #數字+中文 1月1號\n",
        "          line_new = \"\"\n",
        "          if mon in ki:\n",
        "            if da == 31:\n",
        "              break\n",
        "          if mon == 2:\n",
        "            if da in di:\n",
        "              break\n",
        "          all = month_[mon] + day_[da]\n",
        "          line_.insert(num, all)\n",
        "          for j in range(len(line_)):\n",
        "            line_new = line_new + line_[j]\n",
        "          line_new_day = str(da) + \" \" +line_new\n",
        "          f.writelines(str(line_new_day) +\"\\n\")\n",
        "\n",
        "          #數字  1/1\n",
        "          line_ = [c for c in qa_pairs[i]]\n",
        "          line_new = \"\"\n",
        "          all = month_num[mon] + day_num[da]\n",
        "          line_.insert(num, all)\n",
        "          for j in range(len(line_)):\n",
        "            line_new = line_new + line_[j]\n",
        "          line_new_day = str(da) + \" \" +line_new\n",
        "          f.writelines(str(line_new_day) +\"\\n\")\n",
        "\n",
        "          #中文  一月一號\n",
        "          line_ = [c for c in qa_pairs[i]]\n",
        "          line_new = \"\"\n",
        "          all = month_token[mon] + day_token[da]\n",
        "          line_.insert(num, all)\n",
        "          for j in range(len(line_)):\n",
        "            line_new = line_new + line_[j]\n",
        "          line_new_day = str(da) + \" \" +line_new\n",
        "          f.writelines(str(line_new_day) +\"\\n\")"
      ],
      "metadata": {
        "id": "V32GDFP-KXya"
      },
      "execution_count": null,
      "outputs": []
    },
    {
      "cell_type": "code",
      "source": [
        "ki = [4,6,9,11]\n",
        "di = [29,30,31]\n",
        "path = 'drive/MyDrive/month.txt'\n",
        "with open(path, 'w') as f:\n",
        "  for i in range(len(qa_pairs)):\n",
        "    for mon in range(0,13):\n",
        "      if mon == 0:\n",
        "        line_new_month = \"0 \" + qa_pairs[i] \n",
        "        f.writelines(str(line_new_month) +\"\\n\")\n",
        "      else:\n",
        "        line_2 = [d for d in qa_pairs[i]]\n",
        "        num = rd.randint(0,len(line_2))\n",
        "        for da in range(1,32):\n",
        "          #1月1號\n",
        "          line_ = [c for c in qa_pairs[i]]\n",
        "          line_new = \"\"\n",
        "          if mon in ki:\n",
        "            if da == 31:\n",
        "              break\n",
        "          if mon == 2:\n",
        "            if da in di:\n",
        "              break\n",
        "          all = month_[mon] + day_[da]\n",
        "          line_.insert(num, all)\n",
        "          for j in range(len(line_)):\n",
        "            line_new = line_new + line_[j]\n",
        "          line_new_month = str(mon) + \" \" +line_new\n",
        "          f.writelines(str(line_new_month) +\"\\n\")\n",
        "\n",
        "          #1/1\n",
        "          line_ = [c for c in qa_pairs[i]]\n",
        "          line_new = \"\"\n",
        "          all = month_num[mon] + day_num[da]\n",
        "          line_.insert(num, all)\n",
        "          for j in range(len(line_)):\n",
        "            line_new = line_new + line_[j]\n",
        "          line_new_month = str(mon) + \" \" +line_new\n",
        "          f.writelines(str(line_new_month) +\"\\n\")\n",
        "\n",
        "          #一月一號\n",
        "          line_ = [c for c in qa_pairs[i]]\n",
        "          line_new = \"\"\n",
        "          all = month_token[mon] + day_token[da]\n",
        "          line_.insert(num, all)\n",
        "          for j in range(len(line_)):\n",
        "            line_new = line_new + line_[j]\n",
        "          line_new_month = str(mon) + \" \" +line_new\n",
        "          f.writelines(str(line_new_month) +\"\\n\")"
      ],
      "metadata": {
        "id": "FEkX4kxIYxXo"
      },
      "execution_count": null,
      "outputs": []
    },
    {
      "cell_type": "code",
      "source": [
        "path = 'drive/MyDrive/spoken.txt'\n",
        "with open(path, 'w') as f:\n",
        "  for i in range(len(qa_pairs)):\n",
        "    for spok in range(0,8):\n",
        "      if spok == 0:\n",
        "        line_spok = \"0 \" + qa_pairs[i] \n",
        "        f.writelines(str(line_spok) +\"\\n\")\n",
        "      else:\n",
        "        # _1  下周三\n",
        "        line_ = [c for c in qa_pairs[i]]\n",
        "        num = rd.randint(0,len(line_))\n",
        "        line_new = \"\"\n",
        "        line_.insert(num, spoken_1[spok])\n",
        "        for j in range(len(line_)):\n",
        "          line_new = line_new + line_[j]\n",
        "        line_spok = str(spok+7) + \" \" +line_new\n",
        "        f.writelines(str(line_spok) +\"\\n\")\n",
        "\n",
        "        # _2  下禮拜三\n",
        "        line_ = [c for c in qa_pairs[i]]\n",
        "        line_new = \"\"\n",
        "        line_.insert(num, spoken_2[spok])\n",
        "        for j in range(len(line_)):\n",
        "          line_new = line_new + line_[j]\n",
        "        line_spok = str(spok+7) + \" \" +line_new\n",
        "        f.writelines(str(line_spok) +\"\\n\")\n",
        "\n",
        "        # _3  禮拜三\n",
        "        line_ = [c for c in qa_pairs[i]]\n",
        "        line_new = \"\"\n",
        "        line_.insert(num, spoken_3[spok])\n",
        "        for j in range(len(line_)):\n",
        "          line_new = line_new + line_[j]\n",
        "        line_spok = str(spok) + \" \" +line_new\n",
        "        f.writelines(str(line_spok) +\"\\n\")"
      ],
      "metadata": {
        "id": "2YdZTjjH09CP"
      },
      "execution_count": null,
      "outputs": []
    },
    {
      "cell_type": "code",
      "source": [
        "path = 'drive/MyDrive/preiod.txt'\n",
        "with open(path, 'w') as f:\n",
        "  for i in range(len(qa_pairs)):\n",
        "    for spok in range(0,5):\n",
        "      if spok == 0:\n",
        "        line_spok = \"0 \" + qa_pairs[i] \n",
        "        f.writelines(str(line_spok) +\"\\n\")\n",
        "      else:\n",
        "        # _4\n",
        "        line_ = [c for c in qa_pairs[i]]\n",
        "        line_new = \"\"\n",
        "        line_.insert(num, spoken_4[spok])\n",
        "        for j in range(len(line_)):\n",
        "          line_new = line_new + line_[j]\n",
        "        line_spok = str(spok) + \" \" +line_new\n",
        "        f.writelines(str(line_spok) +\"\\n\")"
      ],
      "metadata": {
        "id": "SPKQVQ7ql8m5"
      },
      "execution_count": null,
      "outputs": []
    },
    {
      "cell_type": "code",
      "source": [
        "label_month = []\n",
        "seq_month = []\n",
        "\n",
        "with open('drive/MyDrive/month.txt', 'r', encoding='utf-8') as dataset:\n",
        "  for line in dataset:\n",
        "    lab, se = line.split(\" \")\n",
        "    label_month.append(lab)\n",
        "    se = se.strip('\\n')\n",
        "    seq_month.append(se)"
      ],
      "metadata": {
        "id": "fSCPpKmhD6g4"
      },
      "execution_count": null,
      "outputs": []
    },
    {
      "cell_type": "code",
      "source": [
        "label_day = []\n",
        "seq_day = []\n",
        "\n",
        "with open('drive/MyDrive/day.txt', 'r', encoding='utf-8') as dataset:\n",
        "  for line in dataset:\n",
        "    lab, se = line.split(\" \")\n",
        "    label_day.append(lab)\n",
        "    se = se.strip('\\n')\n",
        "    seq_day.append(se)"
      ],
      "metadata": {
        "id": "hi-pm8L1Z3Mb"
      },
      "execution_count": null,
      "outputs": []
    }
  ]
}